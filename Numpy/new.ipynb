{
 "cells": [
  {
   "cell_type": "code",
   "execution_count": 2,
   "metadata": {},
   "outputs": [
    {
     "name": "stdout",
     "output_type": "stream",
     "text": [
      "219 \n",
      "\n",
      "[29 67] \n",
      "\n",
      "[[19 22]\n",
      " [43 50]]\n"
     ]
    }
   ],
   "source": [
    "import numpy as np \n",
    "  \n",
    "# Creating two arrays of rank 2 \n",
    "x = np.array([[1, 2], [3, 4]]) \n",
    "y = np.array([[5, 6], [7, 8]]) \n",
    "  \n",
    "# Creating two arrays of rank 1 \n",
    "v = np.array([9, 10]) \n",
    "w = np.array([11, 12]) \n",
    "  \n",
    "# Inner product of vectors \n",
    "print(np.dot(v, w), \"\\n\") \n",
    "  \n",
    "# Matrix and Vector product \n",
    "print(np.dot(x, v), \"\\n\") \n",
    "  \n",
    "# Matrix and matrix product \n",
    "print(np.dot(x, y)) "
   ]
  }
 ],
 "metadata": {
  "kernelspec": {
   "display_name": "Python 3",
   "language": "python",
   "name": "python3"
  },
  "language_info": {
   "codemirror_mode": {
    "name": "ipython",
    "version": 3
   },
   "file_extension": ".py",
   "mimetype": "text/x-python",
   "name": "python",
   "nbconvert_exporter": "python",
   "pygments_lexer": "ipython3",
   "version": "3.12.2"
  }
 },
 "nbformat": 4,
 "nbformat_minor": 2
}
